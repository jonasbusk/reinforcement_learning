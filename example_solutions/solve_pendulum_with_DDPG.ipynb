{
 "cells": [
  {
   "cell_type": "markdown",
   "metadata": {},
   "source": [
    "## Solve pendulum with Deep Deterministic Policy Gradient\n",
    "\n",
    "Solve the [pendulum environment](https://gym.openai.com/envs/Pendulum-v0/) using the Deep Deterministic Policy Gradient (DDPG) method. \n",
    "\n",
    "The pendulum task has a continuous action space, meaning simple policy gradient and Q-learning methods does not work.\n",
    "Instead we can use an actor-critic approach known as the Deep Deterministic Policy Gradient method (DDPG). \n",
    "DDPG consists of a critic, $Q$, trained with squared loss:\n",
    "\n",
    "$$\n",
    "\\begin{align}\n",
    "y &= r + \\gamma Q(s',\\mu(s';\\theta^{\\mu'});\\theta^{Q'}) \\\\\n",
    "L(\\theta) &= \\mathbb{E}_{s,a,r,s'}[(y - Q(s,a;\\theta))^2] \\ ,\n",
    "\\end{align}\n",
    "$$\n",
    "\n",
    "and an actor, $\\mu$, with a continuous output trained with the deterministic policy gradient:\n",
    "\n",
    "$$\n",
    "\\nabla_{\\theta^\\mu} \\mu \\approx \\mathbb{E}[\\nabla_a Q(s,\\mu(s);\\theta^Q) \\nabla_{\\theta^\\mu} \\mu(s;\\theta^\\mu)] \\ .\n",
    "$$\n",
    "\n",
    "Notice how a target actor and critic are used to compute the target value, $y$. \n",
    "The target network parameters are delayed copies of $\\theta^Q$ and $\\theta^\\mu$, respectively, updated with \"soft\" target updates:\n",
    "\n",
    "$$\n",
    "\\begin{align}\n",
    "\\theta^{Q'} &= \\tau \\theta^Q + (1-\\tau) \\theta^{Q'} \\\\\n",
    "\\theta^{\\mu'} &= \\tau \\theta^\\mu + (1-\\tau) \\theta^{\\mu'} \\ ,\n",
    "\\end{align}\n",
    "$$\n",
    "\n",
    "with $\\tau \\ll 1$."
   ]
  },
  {
   "cell_type": "code",
   "execution_count": 1,
   "metadata": {
    "collapsed": true
   },
   "outputs": [],
   "source": [
    "%matplotlib inline\n",
    "import matplotlib.pyplot as plt\n",
    "import os\n",
    "import numpy as np\n",
    "import tensorflow as tf\n",
    "from tensorflow.python.ops.nn import relu, tanh\n",
    "import gym\n",
    "from collections import deque"
   ]
  },
  {
   "cell_type": "code",
   "execution_count": 2,
   "metadata": {
    "scrolled": false
   },
   "outputs": [
    {
     "name": "stderr",
     "output_type": "stream",
     "text": [
      "[2017-12-20 16:10:17,561] Making new env: Pendulum-v0\n"
     ]
    }
   ],
   "source": [
    "env = gym.make('Pendulum-v0')"
   ]
  },
  {
   "cell_type": "code",
   "execution_count": 3,
   "metadata": {
    "collapsed": true
   },
   "outputs": [],
   "source": [
    "class ReplayMemory(object):\n",
    "    \"\"\"Experience Replay Memory\"\"\"\n",
    "    \n",
    "    def __init__(self, size):\n",
    "        self.size = size\n",
    "        self.memory = deque(maxlen=size)\n",
    "    \n",
    "    def add(self, s, a, r, s1, d):\n",
    "        \"\"\"Add experience to memory.\"\"\"\n",
    "        self.memory.append((s, a, r, s1, d))\n",
    "    \n",
    "    def sample(self, batch_size, replace=False):\n",
    "        \"\"\"Sample batch of experiences from memory with replacement.\"\"\"\n",
    "        idx = np.random.choice(len(self.memory), batch_size, replace=replace)\n",
    "        batch = np.array([self.memory[i] for i in idx]).T\n",
    "        ss, aa, rr, ss1, dd = (list(batch[i]) for i in range(5))\n",
    "        return ss, aa, rr, ss1, dd\n",
    "    \n",
    "    @property\n",
    "    def count(self):\n",
    "        return len(self.memory)"
   ]
  },
  {
   "cell_type": "code",
   "execution_count": 4,
   "metadata": {
    "collapsed": true
   },
   "outputs": [],
   "source": [
    "class Actor(object):\n",
    "    \"\"\"Policy network with target network\"\"\"\n",
    "    \n",
    "    def __init__(self, n_s, n_h1, n_h2, n_a, learning_rate, tau, scope='actor'):\n",
    "        # setup main net\n",
    "        with tf.variable_scope(scope):\n",
    "            self.states, self.out = self._create_net(n_s, n_h1, n_h2, n_a)\n",
    "            self.trainables = tf.get_collection(tf.GraphKeys.TRAINABLE_VARIABLES, scope=scope)\n",
    "            self.action_grads = tf.placeholder(tf.float32, [None, n_a])\n",
    "            self.grads = tf.gradients(self.out, self.trainables, -self.action_grads)\n",
    "            self.optimizer = tf.train.AdamOptimizer(learning_rate=learning_rate)\n",
    "            self.update = self.optimizer.apply_gradients(zip(self.grads, self.trainables))\n",
    "        # setup target net\n",
    "        target_scope = '%s_target' % scope\n",
    "        with tf.variable_scope(target_scope):\n",
    "            self.target_states, self.target_out = self._create_net(n_s, n_h1, n_h2, n_a)\n",
    "            self.target_trainables = tf.get_collection(tf.GraphKeys.TRAINABLE_VARIABLES, scope=target_scope) \n",
    "            self.copy_target = self._assign_target_trainables(tau=1.0)\n",
    "            self.update_target = self._assign_target_trainables(tau=tau)\n",
    "    \n",
    "    def _create_net(self, n_s, n_h1, n_h2, n_a):\n",
    "        states = tf.placeholder(tf.float32, [None, n_s], name='states')\n",
    "        net = tf.layers.dense(inputs=states, units=n_h1, activation=relu, name='hidden1')\n",
    "        net = tf.layers.dense(inputs=net, units=n_h2, activation=relu, name='hidden2')\n",
    "        out = tf.layers.dense(inputs=net, units=n_a, activation=tanh, name='out')\n",
    "        out = tf.multiply(out, 2) # scale output\n",
    "        return states, out\n",
    "    \n",
    "    def _assign_target_trainables(self, tau):\n",
    "        # ops for copying trainables from the main net to the target net with rate tau\n",
    "        return [t.assign((1-tau) * t.value() + tau * self.trainables[i].value()) \\\n",
    "                for i, t in enumerate(self.target_trainables)]"
   ]
  },
  {
   "cell_type": "code",
   "execution_count": 5,
   "metadata": {
    "collapsed": true
   },
   "outputs": [],
   "source": [
    "class Critic(object):\n",
    "    \"\"\"Q-network with target network\"\"\"\n",
    "    \n",
    "    def __init__(self, n_s, n_h1, n_h2, n_a, learning_rate, tau, scope='critic'):\n",
    "        # setup main net\n",
    "        with tf.variable_scope(scope):         \n",
    "            self.states, self.actions, self.out = self._create_net(n_s, n_h1, n_h2, n_a)\n",
    "            self.trainables = tf.get_collection(tf.GraphKeys.TRAINABLE_VARIABLES, scope=scope)\n",
    "            self.targets = tf.placeholder(tf.float32, [None, 1], name='targets')\n",
    "            self.loss = tf.reduce_sum(tf.square(self.targets - self.out))\n",
    "            self.optimizer = tf.train.AdamOptimizer(learning_rate=learning_rate)\n",
    "            self.update = self.optimizer.minimize(self.loss)\n",
    "            self.action_grads = tf.gradients(self.out, self.actions)\n",
    "        # setup target net\n",
    "        target_scope = '%s_target' % scope\n",
    "        with tf.variable_scope(target_scope):\n",
    "            self.target_states, self.target_actions, self.target_out = self._create_net(n_s, n_h1, n_h2, n_a)\n",
    "            self.target_trainables = tf.get_collection(tf.GraphKeys.TRAINABLE_VARIABLES, scope=target_scope) \n",
    "            self.copy_target = self._assign_target_trainables(tau=1.0)\n",
    "            self.update_target = self._assign_target_trainables(tau=tau)\n",
    "    \n",
    "    def _create_net(self, n_s, n_h1, n_h2, n_a):\n",
    "        states = tf.placeholder(tf.float32, [None, n_s], name='states')\n",
    "        actions = tf.placeholder(tf.float32, [None, n_a], name='actions')\n",
    "        net = tf.layers.dense(states, units=n_h1, activation=relu)\n",
    "        net = tf.concat([net, actions], 1) # input actions at second hidden layer\n",
    "        net = tf.layers.dense(net, units=n_h2, activation=relu)\n",
    "        out = tf.layers.dense(inputs=net, units=1, activation=None, name='out')\n",
    "        return states, actions, out\n",
    "    \n",
    "    def _assign_target_trainables(self, tau):\n",
    "        # ops for copying trainables from the main net to the target net with rate tau\n",
    "        return [t.assign((1-tau) * t.value() + tau * self.trainables[i].value()) \\\n",
    "                for i, t in enumerate(self.target_trainables)]"
   ]
  },
  {
   "cell_type": "code",
   "execution_count": 6,
   "metadata": {
    "scrolled": true
   },
   "outputs": [
    {
     "name": "stdout",
     "output_type": "stream",
     "text": [
      "prefill memory\n",
      "start training\n",
      "  10 mean training reward: -1521.85\n",
      "  20 mean training reward: -1298.92\n",
      "  30 mean training reward: -1035.15\n",
      "  40 mean training reward: -1136.08\n",
      "  50 mean training reward: -1044.69\n",
      "  60 mean training reward:  -267.09\n",
      "  70 mean training reward:  -543.32\n",
      "  80 mean training reward:  -176.70\n",
      "  90 mean training reward:  -587.26\n",
      " 100 mean training reward:  -182.86\n",
      "done\n"
     ]
    }
   ],
   "source": [
    "num_episodes = 100\n",
    "episode_limit = env.spec.timestep_limit\n",
    "batch_size = 64\n",
    "\n",
    "replay_memory_size = 100000\n",
    "\n",
    "actor_learning_rate = 0.00005\n",
    "critic_learning_rate = 0.0005\n",
    "tau = 0.001 # target network update rate\n",
    "\n",
    "gamma = 0.99 # discount rate\n",
    "\n",
    "print_freq = 10\n",
    "\n",
    "# net size\n",
    "n_s = env.observation_space.shape[0]\n",
    "n_a = env.action_space.shape[0]\n",
    "n_h1 = 200\n",
    "n_h2 = 100\n",
    "\n",
    "# create networks\n",
    "tf.reset_default_graph()\n",
    "actor = Actor(n_s, n_h1, n_h2, n_a, actor_learning_rate, tau)\n",
    "critic = Critic(n_s, n_h1, n_h2, n_a, critic_learning_rate, tau)\n",
    "\n",
    "saver = tf.train.Saver()\n",
    "save_path = 'tmp/pendulum_ddpg'\n",
    "\n",
    "# initialize replay memory\n",
    "replay_memory = ReplayMemory(replay_memory_size)\n",
    "print('prefill memory')\n",
    "s = env.reset()\n",
    "while replay_memory.count < replay_memory.size:\n",
    "    a = env.action_space.sample()\n",
    "    s1, r, d, _ = env.step(a)\n",
    "    replay_memory.add(s, a, r, s1, d)\n",
    "    s = s1 if not d else env.reset()\n",
    "\n",
    "# training loop\n",
    "try:\n",
    "    with tf.Session() as sess:\n",
    "        print('start training')\n",
    "        sess.run(tf.global_variables_initializer())\n",
    "        sess.run([actor.copy_target, critic.copy_target])\n",
    "        rewards = []\n",
    "        for i in range(num_episodes):\n",
    "            s = env.reset()\n",
    "            reward = 0\n",
    "            for j in range(episode_limit):\n",
    "                # take step in environment\n",
    "                a = sess.run(actor.out, feed_dict={actor.states: [s]}) + np.random.normal() * 0.1 # action w. exploration noise\n",
    "                s1, r, d, _ = env.step(a[0])\n",
    "                replay_memory.add(s, a, r, s1, d)\n",
    "                s = s1\n",
    "                reward += r\n",
    "                # train\n",
    "                if replay_memory.count >= batch_size:\n",
    "                    # sample batch\n",
    "                    ss, aa, rr, ss1, dd = replay_memory.sample(batch_size)\n",
    "                    # compute targets\n",
    "                    target_a = sess.run(actor.target_out, feed_dict={actor.target_states: ss1})\n",
    "                    target_q = sess.run(critic.target_out, feed_dict={critic.target_states: ss1, critic.target_actions: target_a})\n",
    "                    targets = [rr[k] + gamma * target_q[k] * (not dd[k]) for k in range(batch_size)]\n",
    "                    # update critic\n",
    "                    sess.run(critic.update, feed_dict={critic.states: ss, critic.actions: aa, critic.targets: targets})\n",
    "                    # comput action gradients\n",
    "                    a_out = sess.run(actor.out, feed_dict={actor.states: ss})\n",
    "                    action_grads = sess.run(critic.action_grads, feed_dict={critic.states: ss, critic.actions: a_out})\n",
    "                    # update actor\n",
    "                    sess.run(actor.update, feed_dict={actor.states: ss, actor.action_grads: action_grads[0]})\n",
    "                    # update target nets\n",
    "                    sess.run([actor.update_target, critic.update_target])\n",
    "                if d: break\n",
    "            rewards.append(reward)\n",
    "            if (i+1) % print_freq == 0:\n",
    "                print('%4d mean training reward: %8.2f' % (i+1, np.mean(rewards[-print_freq:])))\n",
    "        print('done')\n",
    "        # save model\n",
    "        if not os.path.exists(save_path): os.makedirs(save_path)\n",
    "        latest = saver.save(sess, os.path.join(save_path, 'model'))\n",
    "except KeyboardInterrupt:\n",
    "    pass"
   ]
  },
  {
   "cell_type": "code",
   "execution_count": 7,
   "metadata": {},
   "outputs": [
    {
     "data": {
      "image/png": "[encoded data removed]",
      "text/plain": [
       "<matplotlib.figure.Figure at 0x122c4d8d0>"
      ]
     },
     "metadata": {},
     "output_type": "display_data"
    }
   ],
   "source": [
    "plt.figure(figsize=(14,3))\n",
    "plt.plot(range(1, len(rewards)+1), rewards)\n",
    "plt.axhline(0, color='k', linewidth=1, linestyle='--')\n",
    "plt.xlim([1, num_episodes])\n",
    "plt.xlabel('training episodes'); plt.ylabel('training reward')\n",
    "plt.show()"
   ]
  },
  {
   "cell_type": "code",
   "execution_count": 8,
   "metadata": {},
   "outputs": [
    {
     "name": "stdout",
     "output_type": "stream",
     "text": [
      "INFO:tensorflow:Restoring parameters from tmp/pendulum_ddpg/model\n"
     ]
    },
    {
     "name": "stderr",
     "output_type": "stream",
     "text": [
      "[2017-12-20 16:14:07,893] Restoring parameters from tmp/pendulum_ddpg/model\n"
     ]
    }
   ],
   "source": [
    "# review solution\n",
    "with tf.Session() as sess:\n",
    "    saver.restore(sess, latest)\n",
    "    s = env.reset()\n",
    "    for _ in range(env.spec.timestep_limit):\n",
    "        env.render()\n",
    "        a = sess.run(actor.out, feed_dict={actor.states: [s]})\n",
    "        #a += np.random.normal() * 0.5 # noise\n",
    "        s, r, done, _ = env.step(a[0])\n",
    "    env.render(close=True)"
   ]
  }
 ],
 "metadata": {
  "kernelspec": {
   "display_name": "Python 3",
   "language": "python",
   "name": "python3"
  },
  "language_info": {
   "codemirror_mode": {
    "name": "ipython",
    "version": 3
   },
   "file_extension": ".py",
   "mimetype": "text/x-python",
   "name": "python",
   "nbconvert_exporter": "python",
   "pygments_lexer": "ipython3",
   "version": "3.6.1"
  }
 },
 "nbformat": 4,
 "nbformat_minor": 2
}
